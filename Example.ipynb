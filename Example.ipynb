{
  "nbformat": 4,
  "nbformat_minor": 0,
  "metadata": {
    "colab": {
      "provenance": []
    },
    "kernelspec": {
      "name": "python3",
      "display_name": "Python 3"
    },
    "language_info": {
      "name": "python"
    }
  },
  "cells": [
    {
      "cell_type": "code",
      "execution_count": 8,
      "metadata": {
        "id": "5MRsEHe86zNV"
      },
      "outputs": [],
      "source": [
        "# imports\n",
        "import sys\n",
        "import numpy as np\n",
        "import pandas as pd\n",
        "from concurrent.futures import ThreadPoolExecutor\n",
        "\n",
        "# * home brew imports\n",
        "sys.path.append('/')\n",
        "from model_functions import build_model_input\n",
        "from mc_functions import get_daily_param_permutations, process_input_batch, get_mc_summary"
      ]
    },
    {
      "cell_type": "code",
      "source": [
        "# load sample data\n",
        "data = pd.read_csv(\n",
        "    '/content/sample_input.csv',\n",
        "    parse_dates=['DateTime'],\n",
        "  )"
      ],
      "metadata": {
        "id": "PfRweQ3L7v0g"
      },
      "execution_count": 9,
      "outputs": []
    },
    {
      "cell_type": "code",
      "source": [
        "# iterate over each day for MLE estimates and use multi_threading to compute\n",
        "# the input sets w/ different error manifestations\n",
        "\n",
        "batch_size = 10\n",
        "mc_summary_days = pd.DataFrame()\n",
        "\n",
        "\n",
        "for date in data.Date.drop_duplicates():\n",
        "\n",
        "  # wrap in 'try' to catch dates on which not enough input data is available\n",
        "  try:\n",
        "\n",
        "    # grab daily input\n",
        "    daily_input, obs_ddo = build_model_input(input_df=data, date=str(date))\n",
        "\n",
        "    # create batch of 'n' inputs w/ permutations based on sigma for\n",
        "    # k600, t_water, do_conc_sat\n",
        "    input_batches = get_daily_param_permutations(daily_input, n=100)\n",
        "\n",
        "    # prepare storage of param estimation results from input batches;\n",
        "    all_results = []\n",
        "\n",
        "    # use multi-threading to compute 'batch_size' inputs at the same time\n",
        "    with ThreadPoolExecutor(max_workers=None) as executor:\n",
        "        for batch_start in range(0, len(input_batches), batch_size):\n",
        "            batch = input_batches[batch_start: batch_start + batch_size]\n",
        "            future = executor.submit(process_input_batch, batch, obs_ddo)\n",
        "            all_results.append(future)\n",
        "\n",
        "    # Collect and combine results from all batches\n",
        "    final_results = []\n",
        "    for future in all_results:\n",
        "        final_results.extend(future.result())\n",
        "\n",
        "    # format output\n",
        "    # * define col names of output\n",
        "    output_cols = ['gpp24', 'er24', 'sigma', 'r', 'rmse', 'mae']\n",
        "    parameter_stats = pd.DataFrame(final_results)\n",
        "    parameter_stats.columns = output_cols\n",
        "\n",
        "    # summarize output\n",
        "    # * define col names of statistics for summary\n",
        "    summarize_vars = ['mu', 'sigma', 'p5', 'p50', 'p95']\n",
        "    summarized_daily_out = pd.DataFrame()\n",
        "    # * iterate over output columns\n",
        "    for col in output_cols:\n",
        "\n",
        "      single_row_df = pd.DataFrame([get_mc_summary(parameter_stats[col])])\n",
        "      single_row_df.columns = summarize_vars\n",
        "      single_row_df['variable'] = col\n",
        "\n",
        "      summarized_daily_out = pd.concat([summarized_daily_out,single_row_df])\n",
        "\n",
        "    summarized_daily_out['Date'] = date\n",
        "    mc_summary_days = pd.concat(\n",
        "        [\n",
        "          mc_summary_days,\n",
        "          summarized_daily_out\n",
        "        ]\n",
        "    )\n",
        "\n",
        "  # if inputs for day have wrong legnths, error is caught and\n",
        "  # day is skipped\n",
        "  except ValueError:\n",
        "    print(f'skipped date {date}')\n",
        "\n",
        "print(mc_summary_days.head(3))"
      ],
      "metadata": {
        "colab": {
          "base_uri": "https://localhost:8080/"
        },
        "id": "KAAt49At8t-L",
        "outputId": "b48857d8-f79b-4d02-90fd-d09b760e450d"
      },
      "execution_count": 10,
      "outputs": [
        {
          "output_type": "stream",
          "name": "stderr",
          "text": [
            "/content/model_functions.py:252: RuntimeWarning: divide by zero encountered in log\n",
            "  nll = -(-n/2 * np.log(2 * np.pi * sigma**2) - np.sum(residuals**2) / (2 * sigma**2))\n",
            "/content/model_functions.py:252: RuntimeWarning: divide by zero encountered in scalar divide\n",
            "  nll = -(-n/2 * np.log(2 * np.pi * sigma**2) - np.sum(residuals**2) / (2 * sigma**2))\n",
            "/content/model_functions.py:252: RuntimeWarning: invalid value encountered in scalar subtract\n",
            "  nll = -(-n/2 * np.log(2 * np.pi * sigma**2) - np.sum(residuals**2) / (2 * sigma**2))\n",
            "/content/model_functions.py:252: RuntimeWarning: divide by zero encountered in log\n",
            "  nll = -(-n/2 * np.log(2 * np.pi * sigma**2) - np.sum(residuals**2) / (2 * sigma**2))\n",
            "/content/model_functions.py:252: RuntimeWarning: divide by zero encountered in scalar divide\n",
            "  nll = -(-n/2 * np.log(2 * np.pi * sigma**2) - np.sum(residuals**2) / (2 * sigma**2))\n",
            "/content/model_functions.py:252: RuntimeWarning: invalid value encountered in scalar subtract\n",
            "  nll = -(-n/2 * np.log(2 * np.pi * sigma**2) - np.sum(residuals**2) / (2 * sigma**2))\n",
            "/content/model_functions.py:252: RuntimeWarning: divide by zero encountered in log\n",
            "  nll = -(-n/2 * np.log(2 * np.pi * sigma**2) - np.sum(residuals**2) / (2 * sigma**2))\n",
            "/content/model_functions.py:252: RuntimeWarning: divide by zero encountered in scalar divide\n",
            "  nll = -(-n/2 * np.log(2 * np.pi * sigma**2) - np.sum(residuals**2) / (2 * sigma**2))\n",
            "/content/model_functions.py:252: RuntimeWarning: invalid value encountered in scalar subtract\n",
            "  nll = -(-n/2 * np.log(2 * np.pi * sigma**2) - np.sum(residuals**2) / (2 * sigma**2))\n",
            "/content/model_functions.py:252: RuntimeWarning: divide by zero encountered in log\n",
            "  nll = -(-n/2 * np.log(2 * np.pi * sigma**2) - np.sum(residuals**2) / (2 * sigma**2))\n",
            "/content/model_functions.py:252: RuntimeWarning: divide by zero encountered in scalar divide\n",
            "  nll = -(-n/2 * np.log(2 * np.pi * sigma**2) - np.sum(residuals**2) / (2 * sigma**2))\n",
            "/content/model_functions.py:252: RuntimeWarning: invalid value encountered in scalar subtract\n",
            "  nll = -(-n/2 * np.log(2 * np.pi * sigma**2) - np.sum(residuals**2) / (2 * sigma**2))\n",
            "/content/model_functions.py:252: RuntimeWarning: divide by zero encountered in log\n",
            "  nll = -(-n/2 * np.log(2 * np.pi * sigma**2) - np.sum(residuals**2) / (2 * sigma**2))\n",
            "/content/model_functions.py:252: RuntimeWarning: divide by zero encountered in scalar divide\n",
            "  nll = -(-n/2 * np.log(2 * np.pi * sigma**2) - np.sum(residuals**2) / (2 * sigma**2))\n",
            "/content/model_functions.py:252: RuntimeWarning: invalid value encountered in scalar subtract\n",
            "  nll = -(-n/2 * np.log(2 * np.pi * sigma**2) - np.sum(residuals**2) / (2 * sigma**2))\n",
            "/content/model_functions.py:252: RuntimeWarning: divide by zero encountered in log\n",
            "  nll = -(-n/2 * np.log(2 * np.pi * sigma**2) - np.sum(residuals**2) / (2 * sigma**2))\n",
            "/content/model_functions.py:252: RuntimeWarning: divide by zero encountered in scalar divide\n",
            "  nll = -(-n/2 * np.log(2 * np.pi * sigma**2) - np.sum(residuals**2) / (2 * sigma**2))\n",
            "/content/model_functions.py:252: RuntimeWarning: invalid value encountered in scalar subtract\n",
            "  nll = -(-n/2 * np.log(2 * np.pi * sigma**2) - np.sum(residuals**2) / (2 * sigma**2))\n",
            "/content/model_functions.py:252: RuntimeWarning: divide by zero encountered in log\n",
            "  nll = -(-n/2 * np.log(2 * np.pi * sigma**2) - np.sum(residuals**2) / (2 * sigma**2))\n",
            "/content/model_functions.py:252: RuntimeWarning: divide by zero encountered in scalar divide\n",
            "  nll = -(-n/2 * np.log(2 * np.pi * sigma**2) - np.sum(residuals**2) / (2 * sigma**2))\n",
            "/content/model_functions.py:252: RuntimeWarning: invalid value encountered in scalar subtract\n",
            "  nll = -(-n/2 * np.log(2 * np.pi * sigma**2) - np.sum(residuals**2) / (2 * sigma**2))\n",
            "/content/model_functions.py:252: RuntimeWarning: divide by zero encountered in log\n",
            "  nll = -(-n/2 * np.log(2 * np.pi * sigma**2) - np.sum(residuals**2) / (2 * sigma**2))\n",
            "/content/model_functions.py:252: RuntimeWarning: divide by zero encountered in scalar divide\n",
            "  nll = -(-n/2 * np.log(2 * np.pi * sigma**2) - np.sum(residuals**2) / (2 * sigma**2))\n",
            "/content/model_functions.py:252: RuntimeWarning: invalid value encountered in scalar subtract\n",
            "  nll = -(-n/2 * np.log(2 * np.pi * sigma**2) - np.sum(residuals**2) / (2 * sigma**2))\n",
            "/content/model_functions.py:252: RuntimeWarning: divide by zero encountered in log\n",
            "  nll = -(-n/2 * np.log(2 * np.pi * sigma**2) - np.sum(residuals**2) / (2 * sigma**2))\n",
            "/content/model_functions.py:252: RuntimeWarning: divide by zero encountered in scalar divide\n",
            "  nll = -(-n/2 * np.log(2 * np.pi * sigma**2) - np.sum(residuals**2) / (2 * sigma**2))\n",
            "/content/model_functions.py:252: RuntimeWarning: invalid value encountered in scalar subtract\n",
            "  nll = -(-n/2 * np.log(2 * np.pi * sigma**2) - np.sum(residuals**2) / (2 * sigma**2))\n"
          ]
        },
        {
          "output_type": "stream",
          "name": "stdout",
          "text": [
            "skipped date 1978-07-23\n",
            "           mu     sigma          p5         p50         p95 variable  \\\n",
            "0  166.468256  0.146371  166.216405  166.468671  166.685002    gpp24   \n",
            "0  253.427576  5.340920  243.625417  253.643224  261.733098     er24   \n",
            "0    5.924074  0.098047    5.784861    5.931348    6.089973    sigma   \n",
            "\n",
            "         Date  \n",
            "0  1978-07-14  \n",
            "0  1978-07-14  \n",
            "0  1978-07-14  \n"
          ]
        }
      ]
    }
  ]
}